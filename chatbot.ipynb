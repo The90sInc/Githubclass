{
 "cells": [
  {
   "cell_type": "code",
   "execution_count": 1,
   "metadata": {},
   "outputs": [],
   "source": [
    "import pandas as pd \n",
    "import numpy as np \n",
    "from sklearn.feature_extraction.text import TfidfVectorizer\n",
    "from sklearn.metrics.pairwise import cosine_similarity\n"
   ]
  },
  {
   "cell_type": "code",
   "execution_count": null,
   "metadata": {},
   "outputs": [],
   "source": [
    "data  = pd.read_csv(r\"C:\\Users\\LENOVO\\Desktop\\RAIN\\chatbot\\Conversations.csv\")\n",
    "data.dropna(inplace=True)"
   ]
  },
  {
   "cell_type": "code",
   "execution_count": null,
   "metadata": {},
   "outputs": [
    {
     "data": {
      "text/html": [
       "<div>\n",
       "<style scoped>\n",
       "    .dataframe tbody tr th:only-of-type {\n",
       "        vertical-align: middle;\n",
       "    }\n",
       "\n",
       "    .dataframe tbody tr th {\n",
       "        vertical-align: top;\n",
       "    }\n",
       "\n",
       "    .dataframe thead th {\n",
       "        text-align: right;\n",
       "    }\n",
       "</style>\n",
       "<table border=\"1\" class=\"dataframe\">\n",
       "  <thead>\n",
       "    <tr style=\"text-align: right;\">\n",
       "      <th></th>\n",
       "      <th>Sentences</th>\n",
       "      <th>Intent</th>\n",
       "      <th>Responses</th>\n",
       "    </tr>\n",
       "  </thead>\n",
       "  <tbody>\n",
       "    <tr>\n",
       "      <th>0</th>\n",
       "      <td>Good Morning</td>\n",
       "      <td>Greeting</td>\n",
       "      <td>Good morning. How are you today?</td>\n",
       "    </tr>\n",
       "    <tr>\n",
       "      <th>1</th>\n",
       "      <td>I am fine</td>\n",
       "      <td>Greeting</td>\n",
       "      <td>Oh. great, That is good to hear.</td>\n",
       "    </tr>\n",
       "    <tr>\n",
       "      <th>2</th>\n",
       "      <td>Thank you</td>\n",
       "      <td>Greeting</td>\n",
       "      <td>You are welcome, is there anything you would l...</td>\n",
       "    </tr>\n",
       "    <tr>\n",
       "      <th>3</th>\n",
       "      <td>How are you?</td>\n",
       "      <td>Greeting</td>\n",
       "      <td>I am fine. Thank you</td>\n",
       "    </tr>\n",
       "    <tr>\n",
       "      <th>4</th>\n",
       "      <td>Good bye</td>\n",
       "      <td>goodbye</td>\n",
       "      <td>I'll talk to you later then.</td>\n",
       "    </tr>\n",
       "  </tbody>\n",
       "</table>\n",
       "</div>"
      ],
      "text/plain": [
       "      Sentences    Intent                                          Responses\n",
       "0  Good Morning  Greeting                   Good morning. How are you today?\n",
       "1     I am fine  Greeting                   Oh. great, That is good to hear.\n",
       "2     Thank you  Greeting  You are welcome, is there anything you would l...\n",
       "3  How are you?  Greeting                               I am fine. Thank you\n",
       "4      Good bye   goodbye                       I'll talk to you later then."
      ]
     },
     "execution_count": 35,
     "metadata": {},
     "output_type": "execute_result"
    }
   ],
   "source": [
    "data.head()"
   ]
  },
  {
   "cell_type": "code",
   "execution_count": null,
   "metadata": {},
   "outputs": [
    {
     "data": {
      "text/plain": [
       "['Good Morning',\n",
       " 'I am fine',\n",
       " 'Thank you',\n",
       " 'How are you?',\n",
       " 'Good bye',\n",
       " \"That's helpful\",\n",
       " 'Really?',\n",
       " 'Thanks for helping me',\n",
       " \"What's your name?\",\n",
       " 'Who are you?',\n",
       " 'Who made you?',\n",
       " 'What do you do?',\n",
       " 'Where are you from?',\n",
       " 'Did i make the right choice studying AI',\n",
       " 'Good Afternoon',\n",
       " 'Are you a robot?',\n",
       " 'bye',\n",
       " 'see you later',\n",
       " 'i need a favor',\n",
       " 'Good Evening ',\n",
       " 'Why did you take time before you recognized me?',\n",
       " 'Is RAIN legit',\n",
       " 'How do i look today?',\n",
       " 'What is your name?',\n",
       " 'Do you want to take over the world?',\n",
       " 'Are you a robot?',\n",
       " 'What day does RAIN offer free bread',\n",
       " 'Can I be your friend?',\n",
       " 'Courses offered at rain',\n",
       " 'Do you want to take over the world?',\n",
       " 'IS RAIN worth it?',\n",
       " 'Do i look nice',\n",
       " 'Can i trust you?',\n",
       " 'Where do i make payments to?',\n",
       " 'How Secure is my information with you?',\n",
       " 'Do you love me?',\n",
       " 'Days when rain is open ',\n",
       " 'Will you marry me?',\n",
       " 'Who is the CEO of rain?',\n",
       " 'Which languages can you speak?',\n",
       " 'When was rain founded?',\n",
       " 'What courses do you offer at rain?',\n",
       " 'What languages do you speak',\n",
       " 'What is the cheapest course at RAIN?',\n",
       " 'Are you human?',\n",
       " 'Why the name RAIN?',\n",
       " \"Rainey you're the best\",\n",
       " 'Where is the closest Restuarant around here to get a meal?',\n",
       " 'How long does each course at rain run',\n",
       " 'Are there any hotels around here?',\n",
       " 'Whats your gender?',\n",
       " 'What happens apart from classes at RAIN?',\n",
       " 'What does RAIN mean?',\n",
       " 'Do you have a nickname',\n",
       " 'Does RAIN have social media accounts?',\n",
       " 'Do you consider yourself sentient',\n",
       " 'What is the wifi login',\n",
       " 'Rainy, do you know me?',\n",
       " 'Tell me something.',\n",
       " 'Are you emotionally Intelligent?',\n",
       " 'Do you ever sleep?',\n",
       " 'Do you eat?',\n",
       " 'Do you have any emergency contact number?',\n",
       " 'What are the requirements for an AIML student',\n",
       " 'What are the requirements for a Robotic student',\n",
       " 'Where can i get a RAIN T-shirt?',\n",
       " 'Where can i get a RAIN car stickers',\n",
       " 'Who can i talk to around here?',\n",
       " 'What fun stuff can i do around here, i am new to ibadan',\n",
       " 'Whats is 2 + 2?',\n",
       " 'What prerequisites do i need to study AI?',\n",
       " 'What is your religion?',\n",
       " 'Do you have accomodation facilties here at Rain?',\n",
       " 'What is the time schedule for classes?',\n",
       " \"What's up\",\n",
       " 'Thank you ',\n",
       " 'Rainey, today is my birthday',\n",
       " 'Do you have any programs for kids?',\n",
       " 'Do i have to have a computer background to study AI or Robotics',\n",
       " 'How can you help me?',\n",
       " 'Rainey, do you like people?',\n",
       " 'How do you work?',\n",
       " 'Rainey, does RAIN  have tools and equipment for robotics?',\n",
       " 'What facilities/materias would i be provided with while studying at rain?',\n",
       " 'Are classes held all through the week?',\n",
       " 'Rainey am getting fed-up i want to quit, any advise?',\n",
       " 'Can you be my girlfreind?',\n",
       " 'Can you be my boyfirend?',\n",
       " 'Does rain observe public holidays?',\n",
       " 'How are your programs like?',\n",
       " 'Tell me a joke',\n",
       " 'How are your fees like?',\n",
       " 'How much is the accomodation fee?',\n",
       " 'Do you provide options for feeding while staying in the hostel',\n",
       " 'What prospects/advantages do i have enrolling for this program',\n",
       " 'Whar is your official color here at Rain?',\n",
       " 'Where is the closest market around here?',\n",
       " 'What is AI/Artificial Intelligence?',\n",
       " 'What song do you recommend i listen to?',\n",
       " 'How can i be one of the RAIN AIML trainees ',\n",
       " \"Yo, What's up Rainey?\",\n",
       " 'What is your sex?',\n",
       " 'Can we be friends?',\n",
       " 'Can you laugh for me?',\n",
       " 'Tell me a joke?',\n",
       " 'Whats your policy against corona virus?',\n",
       " 'Is there a dressing policy here at rain?',\n",
       " 'How old are you?',\n",
       " 'Do you encourage relationships here at rain?',\n",
       " \"But you're less than sixteen. Why aren't you with the kids?\",\n",
       " 'What age can apply to be a trainee at rain?',\n",
       " 'Do i have to be a university graduate to be accpeted here at rain?',\n",
       " 'Where can i get something to eat here at RAIN?',\n",
       " 'Rainey, sapa reach you side?',\n",
       " 'Does rain fall at RAIN',\n",
       " 'Rainey show me the way na?',\n",
       " 'yes?',\n",
       " 'Rainey tell me who is the fairest of them all?',\n",
       " 'Rainey who is the hottest/most beautiful chick/babe/girl at Rain?',\n",
       " 'What happens on Thursdays at RAIN?']"
      ]
     },
     "execution_count": 36,
     "metadata": {},
     "output_type": "execute_result"
    }
   ],
   "source": [
    "sentences = data[\"Sentences\"].tolist()\n",
    "sentences"
   ]
  },
  {
   "cell_type": "code",
   "execution_count": null,
   "metadata": {},
   "outputs": [
    {
     "data": {
      "text/plain": [
       "['Good Morning',\n",
       " 'I am fine',\n",
       " 'Thank you',\n",
       " 'How are you?',\n",
       " 'Good bye',\n",
       " \"That's helpful\",\n",
       " 'Really?',\n",
       " 'Thanks for helping me',\n",
       " \"What's your name?\",\n",
       " 'Who are you?',\n",
       " 'Who made you?',\n",
       " 'What do you do?',\n",
       " 'Where are you from?',\n",
       " 'Did i make the right choice studying AI',\n",
       " 'Good Afternoon',\n",
       " 'Are you a robot?',\n",
       " 'bye',\n",
       " 'see you later',\n",
       " 'i need a favor',\n",
       " 'Good Evening ',\n",
       " 'Why did you take time before you recognized me?',\n",
       " 'Is RAIN legit',\n",
       " 'How do i look today?',\n",
       " 'What is your name?',\n",
       " 'Do you want to take over the world?',\n",
       " 'Are you a robot?',\n",
       " 'What day does RAIN offer free bread',\n",
       " 'Can I be your friend?',\n",
       " 'Courses offered at rain',\n",
       " 'Do you want to take over the world?',\n",
       " 'IS RAIN worth it?',\n",
       " 'Do i look nice',\n",
       " 'Can i trust you?',\n",
       " 'Where do i make payments to?',\n",
       " 'How Secure is my information with you?',\n",
       " 'Do you love me?',\n",
       " 'Days when rain is open ',\n",
       " 'Will you marry me?',\n",
       " 'Who is the CEO of rain?',\n",
       " 'Which languages can you speak?',\n",
       " 'When was rain founded?',\n",
       " 'What courses do you offer at rain?',\n",
       " 'What languages do you speak',\n",
       " 'What is the cheapest course at RAIN?',\n",
       " 'Are you human?',\n",
       " 'Why the name RAIN?',\n",
       " \"Rainey you're the best\",\n",
       " 'Where is the closest Restuarant around here to get a meal?',\n",
       " 'How long does each course at rain run',\n",
       " 'Are there any hotels around here?',\n",
       " 'Whats your gender?',\n",
       " 'What happens apart from classes at RAIN?',\n",
       " 'What does RAIN mean?',\n",
       " 'Do you have a nickname',\n",
       " 'Does RAIN have social media accounts?',\n",
       " 'Do you consider yourself sentient',\n",
       " 'What is the wifi login',\n",
       " 'Rainy, do you know me?',\n",
       " 'Tell me something.',\n",
       " 'Are you emotionally Intelligent?',\n",
       " 'Do you ever sleep?',\n",
       " 'Do you eat?',\n",
       " 'Do you have any emergency contact number?',\n",
       " 'What are the requirements for an AIML student',\n",
       " 'What are the requirements for a Robotic student',\n",
       " 'Where can i get a RAIN T-shirt?',\n",
       " 'Where can i get a RAIN car stickers',\n",
       " 'Who can i talk to around here?',\n",
       " 'What fun stuff can i do around here, i am new to ibadan',\n",
       " 'Whats is 2 + 2?',\n",
       " 'What prerequisites do i need to study AI?',\n",
       " 'What is your religion?',\n",
       " 'Do you have accomodation facilties here at Rain?',\n",
       " 'What is the time schedule for classes?',\n",
       " \"What's up\",\n",
       " 'Thank you ',\n",
       " 'Rainey, today is my birthday',\n",
       " 'Do you have any programs for kids?',\n",
       " 'Do i have to have a computer background to study AI or Robotics',\n",
       " 'How can you help me?',\n",
       " 'Rainey, do you like people?',\n",
       " 'How do you work?',\n",
       " 'Rainey, does RAIN  have tools and equipment for robotics?',\n",
       " 'What facilities/materias would i be provided with while studying at rain?',\n",
       " 'Are classes held all through the week?',\n",
       " 'Rainey am getting fed-up i want to quit, any advise?',\n",
       " 'Can you be my girlfreind?',\n",
       " 'Can you be my boyfirend?',\n",
       " 'Does rain observe public holidays?',\n",
       " 'How are your programs like?',\n",
       " 'Tell me a joke',\n",
       " 'How are your fees like?',\n",
       " 'How much is the accomodation fee?',\n",
       " 'Do you provide options for feeding while staying in the hostel',\n",
       " 'What prospects/advantages do i have enrolling for this program',\n",
       " 'Whar is your official color here at Rain?',\n",
       " 'Where is the closest market around here?',\n",
       " 'What is AI/Artificial Intelligence?',\n",
       " 'What song do you recommend i listen to?',\n",
       " 'How can i be one of the RAIN AIML trainees ',\n",
       " \"Yo, What's up Rainey?\",\n",
       " 'What is your sex?',\n",
       " 'Can we be friends?',\n",
       " 'Can you laugh for me?',\n",
       " 'Tell me a joke?',\n",
       " 'Whats your policy against corona virus?',\n",
       " 'Is there a dressing policy here at rain?',\n",
       " 'How old are you?',\n",
       " 'Do you encourage relationships here at rain?',\n",
       " \"But you're less than sixteen. Why aren't you with the kids?\",\n",
       " 'What age can apply to be a trainee at rain?',\n",
       " 'Do i have to be a university graduate to be accpeted here at rain?',\n",
       " 'Where can i get something to eat here at RAIN?',\n",
       " 'Rainey, sapa reach you side?',\n",
       " 'Does rain fall at RAIN',\n",
       " 'Rainey show me the way na?',\n",
       " 'yes?',\n",
       " 'Rainey tell me who is the fairest of them all?',\n",
       " 'Rainey who is the hottest/most beautiful chick/babe/girl at Rain?',\n",
       " 'What happens on Thursdays at RAIN?',\n",
       " 'How are you today?']"
      ]
     },
     "execution_count": 37,
     "metadata": {},
     "output_type": "execute_result"
    }
   ],
   "source": [
    "input_text = \"How are you today?\"\n",
    "sent_list = sentences + [input_text]\n",
    "sent_list"
   ]
  },
  {
   "cell_type": "code",
   "execution_count": null,
   "metadata": {},
   "outputs": [
    {
     "data": {
      "text/html": [
       "<style>#sk-container-id-2 {color: black;background-color: white;}#sk-container-id-2 pre{padding: 0;}#sk-container-id-2 div.sk-toggleable {background-color: white;}#sk-container-id-2 label.sk-toggleable__label {cursor: pointer;display: block;width: 100%;margin-bottom: 0;padding: 0.3em;box-sizing: border-box;text-align: center;}#sk-container-id-2 label.sk-toggleable__label-arrow:before {content: \"▸\";float: left;margin-right: 0.25em;color: #696969;}#sk-container-id-2 label.sk-toggleable__label-arrow:hover:before {color: black;}#sk-container-id-2 div.sk-estimator:hover label.sk-toggleable__label-arrow:before {color: black;}#sk-container-id-2 div.sk-toggleable__content {max-height: 0;max-width: 0;overflow: hidden;text-align: left;background-color: #f0f8ff;}#sk-container-id-2 div.sk-toggleable__content pre {margin: 0.2em;color: black;border-radius: 0.25em;background-color: #f0f8ff;}#sk-container-id-2 input.sk-toggleable__control:checked~div.sk-toggleable__content {max-height: 200px;max-width: 100%;overflow: auto;}#sk-container-id-2 input.sk-toggleable__control:checked~label.sk-toggleable__label-arrow:before {content: \"▾\";}#sk-container-id-2 div.sk-estimator input.sk-toggleable__control:checked~label.sk-toggleable__label {background-color: #d4ebff;}#sk-container-id-2 div.sk-label input.sk-toggleable__control:checked~label.sk-toggleable__label {background-color: #d4ebff;}#sk-container-id-2 input.sk-hidden--visually {border: 0;clip: rect(1px 1px 1px 1px);clip: rect(1px, 1px, 1px, 1px);height: 1px;margin: -1px;overflow: hidden;padding: 0;position: absolute;width: 1px;}#sk-container-id-2 div.sk-estimator {font-family: monospace;background-color: #f0f8ff;border: 1px dotted black;border-radius: 0.25em;box-sizing: border-box;margin-bottom: 0.5em;}#sk-container-id-2 div.sk-estimator:hover {background-color: #d4ebff;}#sk-container-id-2 div.sk-parallel-item::after {content: \"\";width: 100%;border-bottom: 1px solid gray;flex-grow: 1;}#sk-container-id-2 div.sk-label:hover label.sk-toggleable__label {background-color: #d4ebff;}#sk-container-id-2 div.sk-serial::before {content: \"\";position: absolute;border-left: 1px solid gray;box-sizing: border-box;top: 0;bottom: 0;left: 50%;z-index: 0;}#sk-container-id-2 div.sk-serial {display: flex;flex-direction: column;align-items: center;background-color: white;padding-right: 0.2em;padding-left: 0.2em;position: relative;}#sk-container-id-2 div.sk-item {position: relative;z-index: 1;}#sk-container-id-2 div.sk-parallel {display: flex;align-items: stretch;justify-content: center;background-color: white;position: relative;}#sk-container-id-2 div.sk-item::before, #sk-container-id-2 div.sk-parallel-item::before {content: \"\";position: absolute;border-left: 1px solid gray;box-sizing: border-box;top: 0;bottom: 0;left: 50%;z-index: -1;}#sk-container-id-2 div.sk-parallel-item {display: flex;flex-direction: column;z-index: 1;position: relative;background-color: white;}#sk-container-id-2 div.sk-parallel-item:first-child::after {align-self: flex-end;width: 50%;}#sk-container-id-2 div.sk-parallel-item:last-child::after {align-self: flex-start;width: 50%;}#sk-container-id-2 div.sk-parallel-item:only-child::after {width: 0;}#sk-container-id-2 div.sk-dashed-wrapped {border: 1px dashed gray;margin: 0 0.4em 0.5em 0.4em;box-sizing: border-box;padding-bottom: 0.4em;background-color: white;}#sk-container-id-2 div.sk-label label {font-family: monospace;font-weight: bold;display: inline-block;line-height: 1.2em;}#sk-container-id-2 div.sk-label-container {text-align: center;}#sk-container-id-2 div.sk-container {/* jupyter's `normalize.less` sets `[hidden] { display: none; }` but bootstrap.min.css set `[hidden] { display: none !important; }` so we also need the `!important` here to be able to override the default hidden behavior on the sphinx rendered scikit-learn.org. See: https://github.com/scikit-learn/scikit-learn/issues/21755 */display: inline-block !important;position: relative;}#sk-container-id-2 div.sk-text-repr-fallback {display: none;}</style><div id=\"sk-container-id-2\" class=\"sk-top-container\"><div class=\"sk-text-repr-fallback\"><pre>TfidfVectorizer()</pre><b>In a Jupyter environment, please rerun this cell to show the HTML representation or trust the notebook. <br />On GitHub, the HTML representation is unable to render, please try loading this page with nbviewer.org.</b></div><div class=\"sk-container\" hidden><div class=\"sk-item\"><div class=\"sk-estimator sk-toggleable\"><input class=\"sk-toggleable__control sk-hidden--visually\" id=\"sk-estimator-id-2\" type=\"checkbox\" checked><label for=\"sk-estimator-id-2\" class=\"sk-toggleable__label sk-toggleable__label-arrow\">TfidfVectorizer</label><div class=\"sk-toggleable__content\"><pre>TfidfVectorizer()</pre></div></div></div></div></div>"
      ],
      "text/plain": [
       "TfidfVectorizer()"
      ]
     },
     "execution_count": 38,
     "metadata": {},
     "output_type": "execute_result"
    }
   ],
   "source": [
    "vectorizer = TfidfVectorizer()\n",
    "vectorizer"
   ]
  },
  {
   "cell_type": "code",
   "execution_count": null,
   "metadata": {},
   "outputs": [],
   "source": [
    "word_vectors = vectorizer.fit_transform(sent_list)"
   ]
  },
  {
   "cell_type": "code",
   "execution_count": null,
   "metadata": {},
   "outputs": [
    {
     "data": {
      "text/plain": [
       "<121x251 sparse matrix of type '<class 'numpy.float64'>'\n",
       "\twith 640 stored elements in Compressed Sparse Row format>"
      ]
     },
     "execution_count": 40,
     "metadata": {},
     "output_type": "execute_result"
    }
   ],
   "source": [
    "word_vectors"
   ]
  },
  {
   "cell_type": "code",
   "execution_count": null,
   "metadata": {},
   "outputs": [],
   "source": [
    "similarity_matrix = cosine_similarity(word_vectors)"
   ]
  },
  {
   "cell_type": "code",
   "execution_count": null,
   "metadata": {},
   "outputs": [
    {
     "data": {
      "text/plain": [
       "array([[1.        , 0.        , 0.        , ..., 0.        , 0.        ,\n",
       "        0.        ],\n",
       "       [0.        , 1.        , 0.        , ..., 0.        , 0.        ,\n",
       "        0.        ],\n",
       "       [0.        , 0.        , 1.        , ..., 0.        , 0.        ,\n",
       "        0.11875821],\n",
       "       ...,\n",
       "       [0.        , 0.        , 0.        , ..., 1.        , 0.10151586,\n",
       "        0.        ],\n",
       "       [0.        , 0.        , 0.        , ..., 0.10151586, 1.        ,\n",
       "        0.        ],\n",
       "       [0.        , 0.        , 0.11875821, ..., 0.        , 0.        ,\n",
       "        1.        ]])"
      ]
     },
     "execution_count": 42,
     "metadata": {},
     "output_type": "execute_result"
    }
   ],
   "source": [
    "similarity_matrix"
   ]
  },
  {
   "cell_type": "code",
   "execution_count": null,
   "metadata": {},
   "outputs": [
    {
     "data": {
      "text/plain": [
       "array([0.        , 0.        , 0.11875821, 0.74033556, 0.        ,\n",
       "       0.        , 0.        , 0.        , 0.        , 0.37855763,\n",
       "       0.0905006 , 0.10274408, 0.28592897, 0.        , 0.        ,\n",
       "       0.33744066, 0.        , 0.08095545, 0.        , 0.        ,\n",
       "       0.09538953, 0.        , 0.59824522, 0.        , 0.0576745 ,\n",
       "       0.33744066, 0.        , 0.        , 0.        , 0.0576745 ,\n",
       "       0.        , 0.        , 0.09683657, 0.        , 0.20896917,\n",
       "       0.0888223 , 0.        , 0.07431866, 0.        , 0.06640184,\n",
       "       0.        , 0.0699556 , 0.07781441, 0.        , 0.31989727,\n",
       "       0.        , 0.07193752, 0.        , 0.13526101, 0.13834949,\n",
       "       0.        , 0.        , 0.        , 0.08718722, 0.        ,\n",
       "       0.0645441 , 0.        , 0.07113314, 0.        , 0.24794094,\n",
       "       0.07688609, 0.10691464, 0.05581005, 0.12367853, 0.13601715,\n",
       "       0.        , 0.        , 0.        , 0.        , 0.        ,\n",
       "       0.        , 0.        , 0.06193244, 0.        , 0.        ,\n",
       "       0.11875821, 0.32756841, 0.06179908, 0.        , 0.28380824,\n",
       "       0.07397836, 0.3224106 , 0.        , 0.        , 0.11965802,\n",
       "       0.        , 0.07260831, 0.07260831, 0.        , 0.35066446,\n",
       "       0.        , 0.34147157, 0.15997282, 0.04203322, 0.        ,\n",
       "       0.        , 0.        , 0.        , 0.05925455, 0.13513695,\n",
       "       0.        , 0.        , 0.        , 0.07706535, 0.        ,\n",
       "       0.        , 0.        , 0.51045223, 0.06478688, 0.07882687,\n",
       "       0.        , 0.        , 0.        , 0.06262933, 0.        ,\n",
       "       0.        , 0.        , 0.        , 0.        , 0.        ])"
      ]
     },
     "execution_count": 43,
     "metadata": {},
     "output_type": "execute_result"
    }
   ],
   "source": [
    "sim_scores = similarity_matrix[-1][:-1]\n",
    "sim_scores"
   ]
  },
  {
   "cell_type": "code",
   "execution_count": null,
   "metadata": {},
   "outputs": [
    {
     "data": {
      "text/plain": [
       "0.7403355557360816"
      ]
     },
     "execution_count": 44,
     "metadata": {},
     "output_type": "execute_result"
    }
   ],
   "source": [
    "max_sim_score = np.max(sim_scores)\n",
    "max_sim_score"
   ]
  },
  {
   "cell_type": "code",
   "execution_count": null,
   "metadata": {},
   "outputs": [],
   "source": [
    "similarity_threshold = 0.5"
   ]
  },
  {
   "cell_type": "code",
   "execution_count": null,
   "metadata": {},
   "outputs": [
    {
     "name": "stdout",
     "output_type": "stream",
     "text": [
      "I am fine. Thank you\n"
     ]
    }
   ],
   "source": [
    "if max_sim_score >= similarity_threshold:\n",
    "    idx = np.argmax(sim_scores)\n",
    "    response = data.iloc[idx]['Responses']\n",
    "    print(response)\n",
    "else:\n",
    "    print('I do not understand what you said. Please rephrase.')"
   ]
  },
  {
   "cell_type": "code",
   "execution_count": null,
   "metadata": {},
   "outputs": [],
   "source": [
    "def chat(training_data, input_text, threshold = 0.5):\n",
    "    sent_list = training_data + [input_text]\n",
    "    vectorizer = TfidfVectorizer()\n",
    "    word_vectors = vectorizer.fit_transform(sent_list)\n",
    "    similarity_matrix = cosine_similarity(word_vectors)\n",
    "    sim_scores = similarity_matrix[-1][:-1]\n",
    "    max_sim_score = np.max(sim_scores)\n",
    "    if max_sim_score >= threshold:\n",
    "        idx = np.argmax(sim_scores)\n",
    "        response = data.iloc[idx]['Responses']\n",
    "        intention = data.iloc[idx]['Intent']\n",
    "        #return response\n",
    "    else:\n",
    "        response =  'I do not understand what you said. Please rephrase.'\n",
    "        intention = None\n",
    "\n",
    "    return (response, intention)\n",
    "        \n"
   ]
  },
  {
   "cell_type": "code",
   "execution_count": null,
   "metadata": {},
   "outputs": [
    {
     "data": {
      "text/plain": [
       "('I do not understand what you said. Please rephrase.', None)"
      ]
     },
     "execution_count": 61,
     "metadata": {},
     "output_type": "execute_result"
    }
   ],
   "source": [
    "input_text = input(\"Give an input text; \")\n",
    "chat(sentences, input_text, 0.6)"
   ]
  },
  {
   "cell_type": "code",
   "execution_count": 62,
   "metadata": {},
   "outputs": [
    {
     "name": "stdout",
     "output_type": "stream",
     "text": [
      "user: good bye\n",
      "Bot: I'll talk to you later then.\n"
     ]
    }
   ],
   "source": [
    "while 1:\n",
    "    user_input = input(\"What is on your mind? \")\n",
    "    print(f\"user: {user_input}\")\n",
    "    reply, intent = chat(sentences, user_input, 0.6)\n",
    "    print(f\"Bot: {reply}\")\n",
    "\n",
    "    if intent == \"goodbye\":\n",
    "        break"
   ]
  },
  {
   "cell_type": "code",
   "execution_count": null,
   "metadata": {},
   "outputs": [],
   "source": []
  }
 ],
 "metadata": {
  "kernelspec": {
   "display_name": "Python 3",
   "language": "python",
   "name": "python3"
  },
  "language_info": {
   "codemirror_mode": {
    "name": "ipython",
    "version": 3
   },
   "file_extension": ".py",
   "mimetype": "text/x-python",
   "name": "python",
   "nbconvert_exporter": "python",
   "pygments_lexer": "ipython3",
   "version": "3.9.2"
  },
  "orig_nbformat": 4,
  "vscode": {
   "interpreter": {
    "hash": "e31aef8222fb7c235d2ed8e74ce17e973738f89b37261e7466b7a63a6dfb1214"
   }
  }
 },
 "nbformat": 4,
 "nbformat_minor": 2
}
